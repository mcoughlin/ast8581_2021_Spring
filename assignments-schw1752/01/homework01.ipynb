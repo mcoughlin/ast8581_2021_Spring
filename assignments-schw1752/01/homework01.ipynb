{
 "cells": [
  {
   "cell_type": "markdown",
   "metadata": {},
   "source": [
    "# Problem 1\n",
    "\n",
    "### Getting familiar with loading, visualizing and operating on multivariate data\n",
    "\n",
    "A Hess diagram is a 2D plot coded by a third quantity.\n",
    "\n",
    "Here's an example from the [astroML documentation](https://www.astroml.org/examples/datasets/plot_SDSS_SSPP.html) showing the temperature and surface gravity (how strongly the star would pull on you if you could stand on it's surface, including the effect of rotation), color coded on the left by density, and on the right by metallicity (measured here as the ratio of iron to hydrogen) with density contours.\n",
    "\n",
    "\n",
    "<img src=\"https://www.astroml.org/_images/plot_SDSS_SSPP_1.png\">\n",
    "\n",
    "From http://das.sdss.org/va/stripe_82_variability/SDSS_82_public/, download one of the HLC\\*fits.gz files (and use `astropy.io.fits` to load one of them)\n",
    "\n",
    "The HLC files are each different bands on the sky. `MEAN_PSFMAG` has columns u, g, r, i, z.\n",
    "\n",
    "You should separate stars and galaxies by using the `MEAN_OBJECT_TYPE` column and making a cut with value > 5 to find stars (and similarly <=5 to find galaxies).\n",
    "\n",
    "For this problem, we want to make stars and galaxies make a 3-panel plot.\n",
    "\n",
    "In the left plot show `r` vs `g-i` color coded by density (I would suggest numpy.histogram2d and matplotlib.pyplot.pcolormesh, but you can use whatever). Plot the contours on top.\n",
    "\n",
    "In the middle and right panel, again plot `r` vs `g-i`, but now color-coded by proper motion in RA, and Dec.\n",
    "\n",
    "Comment on the diffeence in structure in stars vs galaxies."
   ]
  },
  {
   "cell_type": "code",
   "execution_count": 36,
   "metadata": {},
   "outputs": [
    {
     "name": "stdout",
     "output_type": "stream",
     "text": [
      "(128785, 5)\n",
      "(51133, 5)\n",
      "(77652, 5)\n"
     ]
    }
   ],
   "source": [
    "from astropy.io import fits\n",
    "import numpy as np\n",
    "\n",
    "hdul = fits.open('data/HLC.RA_03_to_04.fits.gz')\n",
    "#hdul.info()\n",
    "#hdul[1].header\n",
    "\n",
    "ugrizData = hdul[1].data['MEAN_PSFMAG']\n",
    "objectType = hdul[1].data['MEAN_OBJECT_TYPE']\n",
    "print(ugrizData.shape)\n",
    "#print(objectType.shape)\n",
    "#print(objectType)\n",
    "\n",
    "starIndeces = np.nonzero(objectType > 5)\n",
    "galaxyIndeces = np.nonzero(objectType <= 5)\n",
    "starData = ugrizData[starIndeces]\n",
    "galaxyData = ugrizData[galaxyIndeces]\n",
    "print(starData.shape)\n",
    "print(galaxyData.shape)\n",
    "\n",
    "\n"
   ]
  },
  {
   "cell_type": "markdown",
   "metadata": {},
   "source": [
    "# Problem 2\n",
    "\n",
    "### Comparing distributions to a standard normal distribution\n",
    "\n",
    "Load the `IntroStat_demo.csv` file in the data directory (use `pandas` or `astropy` or whatever you like).\n",
    "\n",
    "Estimate the sample mean and variance of the suspiciously named `mag.outlier` column.\n",
    "\n",
    "Make a Q-Q plot (I suggest statsmodels.graphics.gofplots.qqplot) of the `mag.outlier` column and over plot a line with `Y = Mean + Sigma*X` on it. \n",
    "\n",
    "Calculate the values of the first and third quartiles, and use some linear algebra to figure out the equation of a line passing through them (google line 2 point form if you need a refresher on the linear algebra)\n",
    "\n",
    "Overplot that line passing through the data.\n",
    "\n",
    "Now try the same thing with `mag.het`. Describe what you found?\n",
    "\n",
    "What happens if you rescale the data? Subtract of the sample mean of `mag.het` and divide by `mag.het.error`. Now repeat the Q-Q plot with this quantity. \n",
    "\n",
    "Describe what's going on."
   ]
  },
  {
   "cell_type": "code",
   "execution_count": null,
   "metadata": {},
   "outputs": [],
   "source": []
  },
  {
   "cell_type": "markdown",
   "metadata": {},
   "source": [
    "# Problem 3"
   ]
  },
  {
   "cell_type": "markdown",
   "metadata": {},
   "source": [
    "The demo data set for this part is the Wesenheit index of the OGLE-III fundamental-mode and first overtone classical Cepheids. \n",
    "\n",
    "These stars are awesome because you can use them to measure distances. Here's a nice [youtube video](https://www.youtube.com/watch?v=iyisAjHdhas) on these stars.\n",
    "\n",
    "You'll try to estimate their period-luminosity relationship. \n",
    "\n",
    "The Wesenheit index is defined as `W = I - 1.55(V - I)`, and its main advantage over using simply the I or V photometry is that it is insensitive to extinction. It is denoted by 'W' among the data columns. \n",
    "\n",
    "Other columns are 'name', the identifier of the star; 'RA0' (in decimal hours) and 'Decl0' (in decimal degrees), celestial coordinates; 'Mode', the mode of the Cepheid ('F' indicates fundamental-mode, '1' indicates first overtone star); 'Cloud', indicating which Magellanic Cloud the star belongs to; 'logP1', the base-10 logarithm of the period in days; 'VI', the colour V-I.\n",
    "\n",
    "Split the data into LMC and SMC, and then again by mode F and 1, and plot the `W` on the y-axis vs `log(P1)` on x.\n",
    "Fit or estimate straight lines to each of the four samples (you can use `statsmodels` `astropy` `scipy` `numpy`....)\n",
    "(Yes, we've not covered fitting straight lines. That's OK.)\n",
    "\n",
    "Compute the residuals of each sample to it's respective line. Do these residuals look like a normal distribution? If not, speculate on why (WATCH THE YOUTUBE VIDEO!)\n",
    "\n",
    "Plot the residuals color coded by if they are positive or negative vs RA and Dec (just like a Hess diagram in Problem 1). What do you see?"
   ]
  },
  {
   "cell_type": "code",
   "execution_count": null,
   "metadata": {},
   "outputs": [],
   "source": []
  }
 ],
 "metadata": {
  "kernelspec": {
   "display_name": "Python 3",
   "language": "python",
   "name": "python3"
  },
  "language_info": {
   "codemirror_mode": {
    "name": "ipython",
    "version": 3
   },
   "file_extension": ".py",
   "mimetype": "text/x-python",
   "name": "python",
   "nbconvert_exporter": "python",
   "pygments_lexer": "ipython3",
   "version": "3.9.1"
  }
 },
 "nbformat": 4,
 "nbformat_minor": 4
}
